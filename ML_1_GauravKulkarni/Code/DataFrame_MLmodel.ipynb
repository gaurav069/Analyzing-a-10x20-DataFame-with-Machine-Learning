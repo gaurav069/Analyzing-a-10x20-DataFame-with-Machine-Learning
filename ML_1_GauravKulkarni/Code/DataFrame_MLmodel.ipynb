{
  "nbformat": 4,
  "nbformat_minor": 0,
  "metadata": {
    "colab": {
      "provenance": []
    },
    "kernelspec": {
      "name": "python3",
      "display_name": "Python 3"
    },
    "language_info": {
      "name": "python"
    }
  },
  "cells": [
    {
      "cell_type": "code",
      "execution_count": 9,
      "metadata": {
        "colab": {
          "base_uri": "https://localhost:8080/"
        },
        "id": "MPd6-MUWtXVD",
        "outputId": "a833f2cf-4dba-4af2-ad98-d4dedb8a536a"
      },
      "outputs": [
        {
          "output_type": "stream",
          "name": "stdout",
          "text": [
            "DataFrame:\n",
            "    Age    BMI  BloodPressure  Cholesterol  Glucose  Insulin  SkinThickness  \\\n",
            "0    56  18.94            130          220       83    41.14             30   \n",
            "1    69  39.35             86          193      164    35.93             18   \n",
            "2    46  36.40            100          157      117    36.99             43   \n",
            "3    32  23.07             88          196       84    39.02             31   \n",
            "4    60  22.41            118          184      109     5.55             13   \n",
            "5    25  22.44             97          227      151    19.21             19   \n",
            "6    78  25.04             83          230      180     7.56             19   \n",
            "7    38  29.78            104          185      122    43.43             30   \n",
            "8    56  27.79            139          199       93    31.92             46   \n",
            "9    75  24.76             93          153      193    17.88             17   \n",
            "10   36  31.65            129          151      110     5.05             36   \n",
            "11   40  21.50            137          155       84    16.93             43   \n",
            "12   28  24.78             88          203      114    17.61             36   \n",
            "13   28  26.38            105          153      134    37.02              8   \n",
            "14   41  28.31            132          203      158    32.60             34   \n",
            "15   70  35.38             81          242      140    44.59             41   \n",
            "16   53  22.79             99          212       78    24.67             27   \n",
            "17   57  29.56            107          167      157     7.74             43   \n",
            "18   41  31.24            126          239      198    36.24             49   \n",
            "19   20  19.50            139          193      132    38.52             19   \n",
            "\n",
            "    FamilyHistory ExerciseLevel  Diabetes  \n",
            "0               0        Medium         0  \n",
            "1               0        Medium         1  \n",
            "2               1          High         0  \n",
            "3               0        Medium         0  \n",
            "4               1          High         0  \n",
            "5               0           Low         1  \n",
            "6               0          High         1  \n",
            "7               0        Medium         1  \n",
            "8               1           Low         0  \n",
            "9               1           Low         0  \n",
            "10              1           Low         1  \n",
            "11              1          High         1  \n",
            "12              0        Medium         1  \n",
            "13              1           Low         1  \n",
            "14              0           Low         0  \n",
            "15              0           Low         1  \n",
            "16              1          High         0  \n",
            "17              1          High         1  \n",
            "18              1        Medium         0  \n",
            "19              1          High         1  \n",
            "\n",
            "Model Accuracy: 0.6666666666666666\n",
            "\n",
            "Classification Report:\n",
            "              precision    recall  f1-score   support\n",
            "\n",
            "           0       0.50      1.00      0.67         2\n",
            "           1       1.00      0.50      0.67         4\n",
            "\n",
            "    accuracy                           0.67         6\n",
            "   macro avg       0.75      0.75      0.67         6\n",
            "weighted avg       0.83      0.67      0.67         6\n",
            "\n"
          ]
        },
        {
          "output_type": "stream",
          "name": "stderr",
          "text": [
            "/usr/local/lib/python3.10/dist-packages/sklearn/linear_model/_logistic.py:469: ConvergenceWarning: lbfgs failed to converge (status=1):\n",
            "STOP: TOTAL NO. of ITERATIONS REACHED LIMIT.\n",
            "\n",
            "Increase the number of iterations (max_iter) or scale the data as shown in:\n",
            "    https://scikit-learn.org/stable/modules/preprocessing.html\n",
            "Please also refer to the documentation for alternative solver options:\n",
            "    https://scikit-learn.org/stable/modules/linear_model.html#logistic-regression\n",
            "  n_iter_i = _check_optimize_result(\n"
          ]
        }
      ],
      "source": [
        "import pandas as pd\n",
        "import numpy as np\n",
        "from sklearn.model_selection import train_test_split\n",
        "from sklearn.linear_model import LogisticRegression\n",
        "from sklearn.metrics import accuracy_score, classification_report\n",
        "\n",
        "np.random.seed(42)\n",
        "data = {\n",
        "    \"Age\": np.random.randint(18, 80, size=20),\n",
        "    \"BMI\": np.round(np.random.uniform(18.5, 40.0, size=20), 2),\n",
        "    \"BloodPressure\": np.random.randint(80, 140, size=20),\n",
        "    \"Cholesterol\": np.random.randint(150, 250, size=20),\n",
        "    \"Glucose\": np.random.randint(70, 200, size=20),\n",
        "    \"Insulin\": np.round(np.random.uniform(2.0, 50.0, size=20), 2),\n",
        "    \"SkinThickness\": np.random.randint(5, 50, size=20),\n",
        "    \"FamilyHistory\": np.random.choice([0, 1], size=20),\n",
        "    \"ExerciseLevel\": np.random.choice([\"Low\", \"Medium\", \"High\"], size=20),\n",
        "    \"Diabetes\": np.random.choice([0, 1], size=20),\n",
        "}\n",
        "\n",
        "df = pd.DataFrame(data)\n",
        "\n",
        "df_encoded = pd.get_dummies(df, columns=[\"ExerciseLevel\"], drop_first=True)\n",
        "\n",
        "X = df_encoded.drop(\"Diabetes\", axis=1)\n",
        "y = df_encoded[\"Diabetes\"]\n",
        "X_train, X_test, y_train, y_test = train_test_split(X, y, test_size=0.3, random_state=42)\n",
        "\n",
        "model = LogisticRegression(max_iter=200)\n",
        "model.fit(X_train, y_train)\n",
        "\n",
        "y_pred = model.predict(X_test)\n",
        "accuracy = accuracy_score(y_test, y_pred)\n",
        "classification_rep = classification_report(y_test, y_pred)\n",
        "\n",
        "print(\"DataFrame:\")\n",
        "print(df)\n",
        "print(\"\\nModel Accuracy:\", accuracy)\n",
        "print(\"\\nClassification Report:\")\n",
        "print(classification_rep)\n"
      ]
    }
  ]
}